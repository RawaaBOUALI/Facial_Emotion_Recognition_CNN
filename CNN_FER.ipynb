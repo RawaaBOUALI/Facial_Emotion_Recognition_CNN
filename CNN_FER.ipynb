{
  "cells": [
    {
      "cell_type": "markdown",
      "metadata": {
        "id": "view-in-github",
        "colab_type": "text"
      },
      "source": [
        "<a href=\"https://colab.research.google.com/github/RawaaBOUALI/Facial_Emotion_Recognition_CNN/blob/main/CNN_FER.ipynb\" target=\"_parent\"><img src=\"https://colab.research.google.com/assets/colab-badge.svg\" alt=\"Open In Colab\"/></a>"
      ]
    },
    {
      "cell_type": "markdown",
      "metadata": {
        "id": "Jp-hslxHWAm4"
      },
      "source": [
        "# **Facial Emotion Recognition using CNN**"
      ]
    },
    {
      "cell_type": "markdown",
      "metadata": {
        "id": "aqQUBrhdWcVC"
      },
      "source": [
        "## Abstract"
      ]
    },
    {
      "cell_type": "markdown",
      "metadata": {
        "id": "mkJSA_O6WgmS"
      },
      "source": [
        "This is an academic project which aims to develop an FER system in order to reveal some hints about sentiments.\n"
      ]
    },
    {
      "cell_type": "markdown",
      "metadata": {
        "id": "PzWr_gj4XMkx"
      },
      "source": [
        "## Realisation"
      ]
    },
    {
      "cell_type": "markdown",
      "metadata": {
        "id": "eJFKWyyJS_vG"
      },
      "source": [
        "### Download Data from kaggle "
      ]
    },
    {
      "cell_type": "code",
      "execution_count": 1,
      "metadata": {
        "colab": {
          "base_uri": "https://localhost:8080/"
        },
        "id": "WNzim3_bSf0E",
        "outputId": "15df00e2-25ff-4197-97e5-416976638dac"
      },
      "outputs": [
        {
          "output_type": "stream",
          "name": "stdout",
          "text": [
            "kaggle.json\n",
            "/content/data\n",
            "Downloading challenges-in-representation-learning-facial-expression-recognition-challenge.zip to /content/data\n",
            "100% 284M/285M [00:15<00:00, 17.8MB/s]\n",
            "100% 285M/285M [00:15<00:00, 19.6MB/s]\n",
            "Archive:  challenges-in-representation-learning-facial-expression-recognition-challenge.zip\n",
            "  inflating: example_submission.csv  \n",
            "  inflating: fer2013.tar.gz          \n",
            "  inflating: icml_face_data.csv      \n",
            "  inflating: test.csv                \n",
            "  inflating: train.csv               \n"
          ]
        }
      ],
      "source": [
        "import os\n",
        "\n",
        "# Configure kaggle\n",
        "os.chdir('/root/')\n",
        "!mkdir -p .kaggle\n",
        "os.chdir('/root/.kaggle')\n",
        "!wget --no-check-certificate 'https://docs.google.com/uc?export=download&id=1Y-o0TVcjehM8SZB3Nt8U3xkyeQu-Nse-' -O kaggle.json > /dev/null 2>&1\n",
        "!ls /root/.kaggle\n",
        "\n",
        "# Set permissions \n",
        "!chmod 600 /root/.kaggle/kaggle.json\n",
        "\n",
        "# Create data folder\n",
        "os.chdir('/content/')\n",
        "!rm -rf data\n",
        "!mkdir data\n",
        "os.chdir('data')\n",
        "!pwd\n",
        "\n",
        "# Download data\n",
        "!pip install -q kaggle\n",
        "!kaggle competitions download -c challenges-in-representation-learning-facial-expression-recognition-challenge\n",
        "\n",
        "# Unzip data\n",
        "!unzip *.zip "
      ]
    },
    {
      "cell_type": "markdown",
      "metadata": {
        "id": "IRjRLbB-S6Zb"
      },
      "source": [
        "### Load Data\n"
      ]
    },
    {
      "cell_type": "markdown",
      "metadata": {
        "id": "nNozVHOgTcHd"
      },
      "source": [
        "Load the \"train.csv\" file, and convert it to numpy array. \n",
        "The training images and labels are saved in \"x_train\" and \"y_train\" respectively."
      ]
    },
    {
      "cell_type": "code",
      "execution_count": 2,
      "metadata": {
        "colab": {
          "base_uri": "https://localhost:8080/"
        },
        "id": "99r95QRGTlKQ",
        "outputId": "ecd11fd0-850b-432c-ee07-4d0f430c53c1"
      },
      "outputs": [
        {
          "output_type": "stream",
          "name": "stdout",
          "text": [
            "x_train shape: (28709, 48, 48)\n",
            "y_train shape: (28709,)\n"
          ]
        }
      ],
      "source": [
        "import csv\n",
        "import numpy\n",
        "\n",
        "train_images = []\n",
        "train_labels = []\n",
        "\n",
        "categories_count = {}\n",
        "\n",
        "with open('train.csv') as train:\n",
        "\n",
        "    # Read train.csv file\n",
        "    csv_reader = csv.reader(train)\n",
        "    next(csv_reader)  # Skip the header\n",
        "\n",
        "    for row in csv_reader:\n",
        "\n",
        "        # Append image\n",
        "        pixels_str = row[1]\n",
        "        pixels_list = [int(i) for i in pixels_str.split(' ')]\n",
        "        pixels_list = numpy.array(pixels_list, dtype='uint8')\n",
        "        image = pixels_list.reshape((48, 48))\n",
        "        train_images.append(image)\n",
        "\n",
        "        label_str = row[0]\n",
        "\n",
        "        # Calculate categories count\n",
        "        count = 0\n",
        "        if label_str in categories_count:\n",
        "            count = categories_count[label_str] + 1\n",
        "        categories_count[label_str] = count\n",
        "\n",
        "        # Append label\n",
        "        label = int(label_str)\n",
        "        train_labels.append(label)\n",
        "\n",
        "# Create numpy array of train images and labels\n",
        "x_train = numpy.array(train_images)\n",
        "y_train = numpy.array(train_labels)\n",
        "\n",
        "print('x_train shape: {0}'.format(x_train.shape))\n",
        "print('y_train shape: {0}'.format(y_train.shape))"
      ]
    },
    {
      "cell_type": "markdown",
      "metadata": {
        "id": "V_pzZYzoT2I2"
      },
      "source": [
        "The dataset contains 7 different facial expression categories:\n",
        "\n",
        "*   0=Angry\n",
        "*   1=Disgust\n",
        "*   2=Fear\n",
        "*   3=Happy\n",
        "*   4=Sad\n",
        "*   5=Surprise\n",
        "*   6=Neutral\n",
        "\n",
        "The the histogram below shows the distribution of the 7 facial expression categories:"
      ]
    },
    {
      "cell_type": "code",
      "execution_count": 4,
      "metadata": {
        "colab": {
          "base_uri": "https://localhost:8080/",
          "height": 281
        },
        "id": "ff_1f-q4T_kP",
        "outputId": "e3c3b76f-de33-4839-9e99-33aa992f3903"
      },
      "outputs": [
        {
          "output_type": "display_data",
          "data": {
            "text/plain": [
              "<Figure size 432x288 with 1 Axes>"
            ],
            "image/png": "[encoded data removed]"
          },
          "metadata": {
            "needs_background": "light"
          }
        }
      ],
      "source": [
        "import matplotlib.pyplot as plt\n",
        "%matplotlib inline\n",
        "\n",
        "categories = ('Angry', 'Disgust', 'Fear', 'Happy', 'Sad', 'Surprise', 'Neutral')\n",
        "y_pos = numpy.arange(len(categories))\n",
        "\n",
        "counts = []\n",
        "for label in range(len(categories)):\n",
        "    label_str = str(label)\n",
        "    count = categories_count[label_str]\n",
        "    counts.append(count)\n",
        "    plt.text(label - 0.25, count + 15, str(count))\n",
        "\n",
        "plt.bar(y_pos, counts, align='center', alpha=0.5)\n",
        "plt.xticks(y_pos, categories)\n",
        "plt.ylabel('Count')\n",
        "plt.title('FER2013 Dataset Categories')\n",
        "\n",
        "plt.show()"
      ]
    },
    {
      "cell_type": "code",
      "execution_count": 6,
      "metadata": {
        "colab": {
          "base_uri": "https://localhost:8080/",
          "height": 302
        },
        "id": "_8u4oxJBUGTj",
        "outputId": "738f29ad-1fd8-4969-df28-a3ff93d475b3"
      },
      "outputs": [
        {
          "output_type": "stream",
          "name": "stdout",
          "text": [
            "Label is: 3\n"
          ]
        },
        {
          "output_type": "execute_result",
          "data": {
            "text/plain": [
              "<matplotlib.image.AxesImage at 0x7f45ee596d30>"
            ]
          },
          "metadata": {},
          "execution_count": 6
        },
        {
          "output_type": "display_data",
          "data": {
            "text/plain": [
              "<Figure size 432x288 with 1 Axes>"
            ],
            "image/png": "[encoded data removed]"
          },
          "metadata": {
            "needs_background": "light"
          }
        }
      ],
      "source": [
        "image = x_train[25]\n",
        "label = y_train[25]\n",
        "\n",
        "print('Label is: ' + str(label))\n",
        "plt.imshow(image, cmap='gray')"
      ]
    },
    {
      "cell_type": "markdown",
      "metadata": {
        "id": "JD-yxsqdULYy"
      },
      "source": [
        "### Preprocess Data"
      ]
    },
    {
      "cell_type": "markdown",
      "metadata": {
        "id": "xHsuI-jRUPMv"
      },
      "source": [
        "Split the dataset into training set and test set. ( 20% as testing set, and the rest as training set)."
      ]
    },
    {
      "cell_type": "code",
      "execution_count": 7,
      "metadata": {
        "colab": {
          "base_uri": "https://localhost:8080/"
        },
        "id": "jBUi9tdzUM0u",
        "outputId": "0ddad420-7632-4105-dd95-d138e56285bd"
      },
      "outputs": [
        {
          "output_type": "stream",
          "name": "stdout",
          "text": [
            "(22967, 48, 48, 1)\n",
            "(5742, 48, 48, 1)\n"
          ]
        }
      ],
      "source": [
        "from sklearn.model_selection import train_test_split\n",
        "\n",
        "# Split dataset into train set and test set\n",
        "x_train, x_test, y_train, y_test = train_test_split(x_train, y_train, test_size=0.2)\n",
        "x_train, x_test = x_train / 255.0, x_test / 255.0\n",
        "\n",
        "x_train = x_train.reshape(len(x_train), 48, 48, 1)\n",
        "x_test = x_test.reshape(len(x_test), 48, 48, 1)\n",
        "\n",
        "print(x_train.shape)\n",
        "print(x_test.shape)"
      ]
    },
    {
      "cell_type": "markdown",
      "metadata": {
        "id": "XuNy-sedUg54"
      },
      "source": [
        "### Train the Model"
      ]
    },
    {
      "cell_type": "code",
      "execution_count": 8,
      "metadata": {
        "id": "Dxll5sX3UrNx"
      },
      "outputs": [],
      "source": [
        "import tensorflow as tf\n",
        "from tensorflow.keras.models import Sequential\n",
        "from tensorflow.keras.layers import Conv2D, BatchNormalization, MaxPool2D, Dropout, Flatten, Dense, Activation\n",
        "\n",
        "from tensorflow.keras.optimizers import Adam\n",
        "from tensorflow.keras.callbacks import EarlyStopping, ReduceLROnPlateau\n",
        "\n",
        "from tensorflow.keras import Model, Input\n",
        "from keras.regularizers import l2\n",
        "from tensorflow.keras.preprocessing.image import ImageDataGenerator"
      ]
    },
    {
      "cell_type": "markdown",
      "metadata": {
        "id": "oS72HpdzVAGc"
      },
      "source": [
        "Inspired by the VGGNet architecture we designed a model that is composed of 5 stacks of layers. \n",
        "\n",
        "In each of the first 4 stacks of layers, there are 2 convolutional layer followed by 1 pooling layer. Besides, we used batch normalization to speed up training and dropout to prevent over-fitting.\n",
        "\n",
        "Then one stack of 3 fully-connected layers, followed by a Softmax activation function, which generates the probability of the 7 facial expression categories. \n",
        "\n",
        "Finally, we compiled our model using Adam optimizer with a certain learning rate. \n",
        "\n",
        "Considering that we are dealing with classification issue, we used sparse_categorical_crossentropy as the loss function."
      ]
    },
    {
      "cell_type": "code",
      "execution_count": 10,
      "metadata": {
        "colab": {
          "base_uri": "https://localhost:8080/"
        },
        "id": "aWBXd0u_U7b-",
        "outputId": "9cce752e-5d64-44e2-9c71-0e8f5656ac7f"
      },
      "outputs": [
        {
          "output_type": "stream",
          "name": "stdout",
          "text": [
            "Model: \"sequential_1\"\n",
            "_________________________________________________________________\n",
            " Layer (type)                Output Shape              Param #   \n",
            "=================================================================\n",
            " conv2d_8 (Conv2D)           (None, 46, 46, 64)        640       \n",
            "                                                                 \n",
            " batch_normalization_8 (Batc  (None, 46, 46, 64)       256       \n",
            " hNormalization)                                                 \n",
            "                                                                 \n",
            " conv2d_9 (Conv2D)           (None, 46, 46, 64)        36928     \n",
            "                                                                 \n",
            " batch_normalization_9 (Batc  (None, 46, 46, 64)       256       \n",
            " hNormalization)                                                 \n",
            "                                                                 \n",
            " max_pooling2d_4 (MaxPooling  (None, 22, 22, 64)       0         \n",
            " 2D)                                                             \n",
            "                                                                 \n",
            " dropout_7 (Dropout)         (None, 22, 22, 64)        0         \n",
            "                                                                 \n",
            " conv2d_10 (Conv2D)          (None, 22, 22, 128)       73856     \n",
            "                                                                 \n",
            " batch_normalization_10 (Bat  (None, 22, 22, 128)      512       \n",
            " chNormalization)                                                \n",
            "                                                                 \n",
            " conv2d_11 (Conv2D)          (None, 22, 22, 128)       147584    \n",
            "                                                                 \n",
            " batch_normalization_11 (Bat  (None, 22, 22, 128)      512       \n",
            " chNormalization)                                                \n",
            "                                                                 \n",
            " max_pooling2d_5 (MaxPooling  (None, 10, 10, 128)      0         \n",
            " 2D)                                                             \n",
            "                                                                 \n",
            " dropout_8 (Dropout)         (None, 10, 10, 128)       0         \n",
            "                                                                 \n",
            " conv2d_12 (Conv2D)          (None, 10, 10, 256)       295168    \n",
            "                                                                 \n",
            " batch_normalization_12 (Bat  (None, 10, 10, 256)      1024      \n",
            " chNormalization)                                                \n",
            "                                                                 \n",
            " conv2d_13 (Conv2D)          (None, 10, 10, 256)       590080    \n",
            "                                                                 \n",
            " batch_normalization_13 (Bat  (None, 10, 10, 256)      1024      \n",
            " chNormalization)                                                \n",
            "                                                                 \n",
            " max_pooling2d_6 (MaxPooling  (None, 4, 4, 256)        0         \n",
            " 2D)                                                             \n",
            "                                                                 \n",
            " dropout_9 (Dropout)         (None, 4, 4, 256)         0         \n",
            "                                                                 \n",
            " conv2d_14 (Conv2D)          (None, 4, 4, 512)         1180160   \n",
            "                                                                 \n",
            " batch_normalization_14 (Bat  (None, 4, 4, 512)        2048      \n",
            " chNormalization)                                                \n",
            "                                                                 \n",
            " conv2d_15 (Conv2D)          (None, 4, 4, 512)         2359808   \n",
            "                                                                 \n",
            " batch_normalization_15 (Bat  (None, 4, 4, 512)        2048      \n",
            " chNormalization)                                                \n",
            "                                                                 \n",
            " max_pooling2d_7 (MaxPooling  (None, 1, 1, 512)        0         \n",
            " 2D)                                                             \n",
            "                                                                 \n",
            " dropout_10 (Dropout)        (None, 1, 1, 512)         0         \n",
            "                                                                 \n",
            " flatten_1 (Flatten)         (None, 512)               0         \n",
            "                                                                 \n",
            " dense_4 (Dense)             (None, 512)               262656    \n",
            "                                                                 \n",
            " dropout_11 (Dropout)        (None, 512)               0         \n",
            "                                                                 \n",
            " dense_5 (Dense)             (None, 256)               131328    \n",
            "                                                                 \n",
            " dropout_12 (Dropout)        (None, 256)               0         \n",
            "                                                                 \n",
            " dense_6 (Dense)             (None, 64)                16448     \n",
            "                                                                 \n",
            " dropout_13 (Dropout)        (None, 64)                0         \n",
            "                                                                 \n",
            " dense_7 (Dense)             (None, 7)                 455       \n",
            "                                                                 \n",
            "=================================================================\n",
            "Total params: 5,102,791\n",
            "Trainable params: 5,098,951\n",
            "Non-trainable params: 3,840\n",
            "_________________________________________________________________\n"
          ]
        }
      ],
      "source": [
        "cnn_model = Sequential()\n",
        "\n",
        "# 1st convolution layer\n",
        "cnn_model.add(Conv2D(64, input_shape=(48, 48, 1), kernel_size=(3, 3), activation='relu'))\n",
        "cnn_model.add(BatchNormalization())\n",
        "cnn_model.add(Conv2D(64, padding='same', kernel_size=(3, 3), activation='relu'))\n",
        "cnn_model.add(BatchNormalization())\n",
        "cnn_model.add(MaxPool2D(pool_size=(3, 3), strides=(2, 2)))\n",
        "cnn_model.add(Dropout(0.3))\n",
        "\n",
        "# 2nd convolution layer\n",
        "cnn_model.add(Conv2D(128, padding='same', kernel_size=(3, 3), activation='relu'))\n",
        "cnn_model.add(BatchNormalization())\n",
        "cnn_model.add(Conv2D(128, padding='same', kernel_size=(3, 3), activation='relu'))\n",
        "cnn_model.add(BatchNormalization())\n",
        "cnn_model.add(MaxPool2D(pool_size=(3, 3), strides=(2, 2)))\n",
        "cnn_model.add(Dropout(0.3))\n",
        "\n",
        "# 3rd convolution layer\n",
        "cnn_model.add(Conv2D(256, padding='same', kernel_size=(3, 3), activation='relu'))\n",
        "cnn_model.add(BatchNormalization())\n",
        "cnn_model.add(Conv2D(256, padding='same', kernel_size=(3, 3), activation='relu'))\n",
        "cnn_model.add(BatchNormalization())\n",
        "cnn_model.add(MaxPool2D(pool_size=(3, 3), strides=(2, 2)))\n",
        "cnn_model.add(Dropout(0.3))\n",
        "\n",
        "# 4th convolution layer\n",
        "cnn_model.add(Conv2D(512, padding='same', kernel_size=(3, 3), activation='relu'))\n",
        "cnn_model.add(BatchNormalization())\n",
        "cnn_model.add(Conv2D(512, padding='same', kernel_size=(3, 3), activation='relu'))\n",
        "cnn_model.add(BatchNormalization())\n",
        "cnn_model.add(MaxPool2D(pool_size=(3, 3), strides=(2, 2)))\n",
        "cnn_model.add(Dropout(0.3))\n",
        "\n",
        "# Fully connected layer\n",
        "cnn_model.add(Flatten())\n",
        "cnn_model.add(Dense(512, activation='relu'))\n",
        "cnn_model.add(Dropout(0.3))\n",
        "cnn_model.add(Dense(256, activation='relu'))\n",
        "cnn_model.add(Dropout(0.3))\n",
        "cnn_model.add(Dense(64, activation='relu'))\n",
        "cnn_model.add(Dropout(0.3))\n",
        "\n",
        "cnn_model.add(Dense(7, activation='softmax'))\n",
        "\n",
        "# Compile the model\n",
        "adam = Adam(learning_rate=0.001)\n",
        "cnn_model.compile(optimizer=adam,\n",
        "                  loss='sparse_categorical_crossentropy',\n",
        "                  metrics=['accuracy'])\n",
        "\n",
        "# Summary the model\n",
        "cnn_model.summary()"
      ]
    },
    {
      "cell_type": "markdown",
      "metadata": {
        "id": "Ey1Sg1m6VLWK"
      },
      "source": [
        "Train the model using Early Stopping strategy, which will stop the training process when there is no improvement in the validation accuracy. "
      ]
    },
    {
      "cell_type": "code",
      "execution_count": 11,
      "metadata": {
        "colab": {
          "base_uri": "https://localhost:8080/"
        },
        "id": "dmsHJsMqVMEt",
        "outputId": "eba471e5-f1bd-4219-c6de-ed06ade6f859"
      },
      "outputs": [
        {
          "output_type": "stream",
          "name": "stdout",
          "text": [
            "Epoch 1/100\n",
            "359/359 [==============================] - 28s 51ms/step - loss: 1.8797 - accuracy: 0.2300 - val_loss: 2.0243 - val_accuracy: 0.2569 - lr: 0.0010\n",
            "Epoch 2/100\n",
            "359/359 [==============================] - 16s 44ms/step - loss: 1.6735 - accuracy: 0.3263 - val_loss: 1.5508 - val_accuracy: 0.3851 - lr: 0.0010\n",
            "Epoch 3/100\n",
            "359/359 [==============================] - 16s 45ms/step - loss: 1.5111 - accuracy: 0.4093 - val_loss: 1.6076 - val_accuracy: 0.3884 - lr: 0.0010\n",
            "Epoch 4/100\n",
            "359/359 [==============================] - 16s 45ms/step - loss: 1.3895 - accuracy: 0.4708 - val_loss: 1.4016 - val_accuracy: 0.4347 - lr: 0.0010\n",
            "Epoch 5/100\n",
            "359/359 [==============================] - 16s 44ms/step - loss: 1.3140 - accuracy: 0.5032 - val_loss: 1.4296 - val_accuracy: 0.4497 - lr: 0.0010\n",
            "Epoch 6/100\n",
            "359/359 [==============================] - 16s 44ms/step - loss: 1.2735 - accuracy: 0.5209 - val_loss: 1.3037 - val_accuracy: 0.5037 - lr: 0.0010\n",
            "Epoch 7/100\n",
            "359/359 [==============================] - 16s 44ms/step - loss: 1.2271 - accuracy: 0.5461 - val_loss: 1.4935 - val_accuracy: 0.4674 - lr: 0.0010\n",
            "Epoch 8/100\n",
            "359/359 [==============================] - 16s 44ms/step - loss: 1.1838 - accuracy: 0.5621 - val_loss: 1.2431 - val_accuracy: 0.5329 - lr: 0.0010\n",
            "Epoch 9/100\n",
            "359/359 [==============================] - 16s 44ms/step - loss: 1.1462 - accuracy: 0.5743 - val_loss: 1.1089 - val_accuracy: 0.5829 - lr: 0.0010\n",
            "Epoch 10/100\n",
            "359/359 [==============================] - 16s 44ms/step - loss: 1.1109 - accuracy: 0.5918 - val_loss: 1.1239 - val_accuracy: 0.5785 - lr: 0.0010\n",
            "Epoch 11/100\n",
            "359/359 [==============================] - 16s 44ms/step - loss: 1.0666 - accuracy: 0.6062 - val_loss: 1.1409 - val_accuracy: 0.5733 - lr: 0.0010\n",
            "Epoch 12/100\n",
            "359/359 [==============================] - 16s 44ms/step - loss: 1.0454 - accuracy: 0.6173 - val_loss: 1.1298 - val_accuracy: 0.5808 - lr: 0.0010\n",
            "Epoch 13/100\n",
            "359/359 [==============================] - 16s 44ms/step - loss: 1.0096 - accuracy: 0.6342 - val_loss: 1.1404 - val_accuracy: 0.5850 - lr: 0.0010\n",
            "Epoch 14/100\n",
            "359/359 [==============================] - 16s 44ms/step - loss: 0.9576 - accuracy: 0.6525 - val_loss: 1.2291 - val_accuracy: 0.5502 - lr: 0.0010\n",
            "Epoch 15/100\n",
            "359/359 [==============================] - 16s 44ms/step - loss: 0.9113 - accuracy: 0.6702 - val_loss: 1.1169 - val_accuracy: 0.5987 - lr: 9.0000e-04\n",
            "Epoch 16/100\n",
            "359/359 [==============================] - 16s 44ms/step - loss: 0.8702 - accuracy: 0.6857 - val_loss: 1.0809 - val_accuracy: 0.6054 - lr: 9.0000e-04\n",
            "Epoch 17/100\n",
            "359/359 [==============================] - 16s 44ms/step - loss: 0.8347 - accuracy: 0.6994 - val_loss: 1.1567 - val_accuracy: 0.6082 - lr: 9.0000e-04\n",
            "Epoch 18/100\n",
            "359/359 [==============================] - 16s 46ms/step - loss: 0.7901 - accuracy: 0.7169 - val_loss: 1.1669 - val_accuracy: 0.6026 - lr: 9.0000e-04\n",
            "Epoch 19/100\n",
            "359/359 [==============================] - 16s 44ms/step - loss: 0.7433 - accuracy: 0.7345 - val_loss: 1.1718 - val_accuracy: 0.6191 - lr: 9.0000e-04\n",
            "Epoch 20/100\n",
            "359/359 [==============================] - 16s 44ms/step - loss: 0.6988 - accuracy: 0.7505 - val_loss: 1.2190 - val_accuracy: 0.6153 - lr: 9.0000e-04\n",
            "Epoch 21/100\n",
            "359/359 [==============================] - 16s 44ms/step - loss: 0.6675 - accuracy: 0.7644 - val_loss: 1.1719 - val_accuracy: 0.6177 - lr: 9.0000e-04\n",
            "Epoch 22/100\n",
            "359/359 [==============================] - 16s 44ms/step - loss: 0.6029 - accuracy: 0.7872 - val_loss: 1.2056 - val_accuracy: 0.6351 - lr: 8.1000e-04\n",
            "Epoch 23/100\n",
            "359/359 [==============================] - 16s 44ms/step - loss: 0.5601 - accuracy: 0.8049 - val_loss: 1.3695 - val_accuracy: 0.6224 - lr: 8.1000e-04\n",
            "Epoch 24/100\n",
            "359/359 [==============================] - 16s 44ms/step - loss: 0.5198 - accuracy: 0.8155 - val_loss: 1.3179 - val_accuracy: 0.6200 - lr: 8.1000e-04\n",
            "Epoch 25/100\n",
            "359/359 [==============================] - 16s 44ms/step - loss: 0.4931 - accuracy: 0.8284 - val_loss: 1.2628 - val_accuracy: 0.6402 - lr: 8.1000e-04\n",
            "Epoch 26/100\n",
            "359/359 [==============================] - 16s 44ms/step - loss: 0.4576 - accuracy: 0.8422 - val_loss: 1.4269 - val_accuracy: 0.6324 - lr: 8.1000e-04\n",
            "Epoch 27/100\n",
            "359/359 [==============================] - 16s 44ms/step - loss: 0.4127 - accuracy: 0.8585 - val_loss: 1.4115 - val_accuracy: 0.6419 - lr: 7.2900e-04\n",
            "Epoch 28/100\n",
            "359/359 [==============================] - 16s 44ms/step - loss: 0.3817 - accuracy: 0.8705 - val_loss: 1.5565 - val_accuracy: 0.6273 - lr: 7.2900e-04\n",
            "Epoch 29/100\n",
            "359/359 [==============================] - 16s 44ms/step - loss: 0.3664 - accuracy: 0.8757 - val_loss: 1.4070 - val_accuracy: 0.6442 - lr: 7.2900e-04\n",
            "Epoch 30/100\n",
            "359/359 [==============================] - 16s 44ms/step - loss: 0.3361 - accuracy: 0.8861 - val_loss: 1.6473 - val_accuracy: 0.6439 - lr: 7.2900e-04\n",
            "Epoch 31/100\n",
            "359/359 [==============================] - 16s 44ms/step - loss: 0.3292 - accuracy: 0.8873 - val_loss: 1.6530 - val_accuracy: 0.6196 - lr: 7.2900e-04\n",
            "Epoch 32/100\n",
            "359/359 [==============================] - 16s 44ms/step - loss: 0.2851 - accuracy: 0.9037 - val_loss: 1.6386 - val_accuracy: 0.6423 - lr: 6.5610e-04\n",
            "Epoch 33/100\n",
            "359/359 [==============================] - 16s 44ms/step - loss: 0.2652 - accuracy: 0.9100 - val_loss: 1.7824 - val_accuracy: 0.6297 - lr: 6.5610e-04\n",
            "Epoch 34/100\n",
            "359/359 [==============================] - 16s 44ms/step - loss: 0.2580 - accuracy: 0.9146 - val_loss: 1.8913 - val_accuracy: 0.6238 - lr: 6.5610e-04\n",
            "Epoch 35/100\n",
            "359/359 [==============================] - 16s 44ms/step - loss: 0.2537 - accuracy: 0.9168 - val_loss: 2.0463 - val_accuracy: 0.6129 - lr: 6.5610e-04\n",
            "Epoch 36/100\n",
            "359/359 [==============================] - 16s 44ms/step - loss: 0.2314 - accuracy: 0.9252 - val_loss: 1.7754 - val_accuracy: 0.6367 - lr: 6.5610e-04\n",
            "Epoch 37/100\n",
            "359/359 [==============================] - 16s 44ms/step - loss: 0.2145 - accuracy: 0.9284 - val_loss: 1.8922 - val_accuracy: 0.6320 - lr: 5.9049e-04\n",
            "Epoch 38/100\n",
            "359/359 [==============================] - 16s 44ms/step - loss: 0.1927 - accuracy: 0.9349 - val_loss: 1.9217 - val_accuracy: 0.6376 - lr: 5.9049e-04\n",
            "Epoch 39/100\n",
            "359/359 [==============================] - 16s 44ms/step - loss: 0.1803 - accuracy: 0.9412 - val_loss: 1.8652 - val_accuracy: 0.6439 - lr: 5.9049e-04\n"
          ]
        }
      ],
      "source": [
        "# Callbacks\n",
        "early_stopping = EarlyStopping(monitor='val_accuracy', patience=10)\n",
        "reduce_learning_rate = ReduceLROnPlateau(monitor='val_loss', factor=0.9, patience=5)\n",
        "\n",
        "# Train the model\n",
        "history = cnn_model.fit(x_train,\n",
        "                        y_train,\n",
        "                        batch_size=64,\n",
        "                        epochs=100,\n",
        "                        validation_data=(x_test, y_test),\n",
        "                        callbacks=[early_stopping, reduce_learning_rate])\n",
        "\n",
        "cnn_model.save('emotion_detection_model.h5')"
      ]
    },
    {
      "cell_type": "markdown",
      "metadata": {
        "id": "XefHICucVhU5"
      },
      "source": [
        "After the training process is completed, here is the accuracy diagram of the training and validation accuracy."
      ]
    },
    {
      "cell_type": "code",
      "execution_count": 12,
      "metadata": {
        "colab": {
          "base_uri": "https://localhost:8080/",
          "height": 295
        },
        "id": "BlSveY2dViBk",
        "outputId": "c817a045-60a9-4515-b6a0-771ad35fdf44"
      },
      "outputs": [
        {
          "output_type": "display_data",
          "data": {
            "text/plain": [
              "<Figure size 432x288 with 1 Axes>"
            ],
            "image/png": "[encoded data removed]"
          },
          "metadata": {
            "needs_background": "light"
          }
        }
      ],
      "source": [
        "# Show accuracy diagram\n",
        "plt.title('Model Accuracy')\n",
        "plt.plot(history.history['accuracy'], label='accuracy')\n",
        "plt.plot(history.history['val_accuracy'], label='val_accuracy')\n",
        "plt.xlabel('Epoch')\n",
        "plt.ylabel('Accuracy')\n",
        "plt.legend(['Accuracy', 'Validation Accuracy'])\n",
        "plt.show()"
      ]
    },
    {
      "cell_type": "markdown",
      "metadata": {
        "id": "OzKtiTYGVnmR"
      },
      "source": [
        "### Improving the Model"
      ]
    },
    {
      "cell_type": "markdown",
      "metadata": {
        "id": "X4Kb7OZpVoMz"
      },
      "source": [
        "Trying to improve the model in order to increase the validation accuracy by:\n",
        "\n",
        "\n",
        "*   Generate hard data\n",
        "*   Data augmentation\n",
        "\n",
        "\n",
        "The score before improvement is around 64%."
      ]
    },
    {
      "cell_type": "code",
      "execution_count": 13,
      "metadata": {
        "colab": {
          "base_uri": "https://localhost:8080/"
        },
        "id": "4s9Z22YYVuHw",
        "outputId": "e58fd238-0ae8-440b-9ed0-b8db7071ed72"
      },
      "outputs": [
        {
          "output_type": "stream",
          "name": "stdout",
          "text": [
            "180/180 [==============================] - 2s 10ms/step - loss: 1.8652 - accuracy: 0.6439\n",
            "Score before improvement: 0.6438522934913635\n"
          ]
        }
      ],
      "source": [
        "# Evaluate the model before improvement\n",
        "_, score_before_improvement = cnn_model.evaluate(x_test, y_test)\n",
        "print('Score before improvement: {}'.format(score_before_improvement))"
      ]
    },
    {
      "cell_type": "markdown",
      "metadata": {
        "id": "wBRk8PwMgmx1"
      },
      "source": [
        "Trying to improve the model by generating hard data. Instead of training the model over and over again, select the images which are incorrectly labelled by the model, and train the model on these specific images. "
      ]
    },
    {
      "cell_type": "code",
      "execution_count": 14,
      "metadata": {
        "colab": {
          "base_uri": "https://localhost:8080/"
        },
        "id": "P9-p_0jPgqmb",
        "outputId": "48055361-d4cd-4a01-e833-16e999f48518"
      },
      "outputs": [
        {
          "output_type": "stream",
          "name": "stdout",
          "text": [
            "180/180 [==============================] - 1s 7ms/step\n",
            "(4718, 48, 48, 1)\n",
            "(4718,)\n"
          ]
        }
      ],
      "source": [
        "hard_images = []\n",
        "hard_labels = []\n",
        "\n",
        "# Make predictions\n",
        "predictions = cnn_model.predict(x_test)\n",
        "for i, v in enumerate(predictions):\n",
        "    y_predict = numpy.argmax(v)\n",
        "    y_real = y_train[i]\n",
        "    if y_predict != y_real:\n",
        "        # If predict incorrectly, append to array\n",
        "        image = x_train[i]\n",
        "        hard_image = image.reshape(1, 48, 48, 1)\n",
        "        hard_images.append(image)\n",
        "        hard_labels.append(y_real)\n",
        "\n",
        "x_hard = numpy.array(hard_images)\n",
        "y_hard = numpy.array(hard_labels)\n",
        "\n",
        "print(x_hard.shape)\n",
        "print(y_hard.shape)"
      ]
    },
    {
      "cell_type": "code",
      "execution_count": 15,
      "metadata": {
        "colab": {
          "base_uri": "https://localhost:8080/"
        },
        "id": "-1rB0rUQg-2u",
        "outputId": "fe2caa6c-28a3-4b9c-b991-ae311e9e46c5"
      },
      "outputs": [
        {
          "output_type": "stream",
          "name": "stdout",
          "text": [
            "Epoch 1/100\n",
            "59/59 [==============================] - 4s 71ms/step - loss: 0.1699 - accuracy: 0.9446 - val_loss: 0.0554 - val_accuracy: 0.9831 - lr: 5.9049e-04\n",
            "Epoch 2/100\n",
            "59/59 [==============================] - 3s 46ms/step - loss: 0.1261 - accuracy: 0.9581 - val_loss: 0.0693 - val_accuracy: 0.9809 - lr: 5.9049e-04\n",
            "Epoch 3/100\n",
            "59/59 [==============================] - 3s 46ms/step - loss: 0.1155 - accuracy: 0.9637 - val_loss: 0.0530 - val_accuracy: 0.9841 - lr: 5.9049e-04\n",
            "Epoch 4/100\n",
            "59/59 [==============================] - 3s 46ms/step - loss: 0.1020 - accuracy: 0.9658 - val_loss: 0.0591 - val_accuracy: 0.9756 - lr: 5.9049e-04\n",
            "Epoch 5/100\n",
            "59/59 [==============================] - 3s 47ms/step - loss: 0.1055 - accuracy: 0.9669 - val_loss: 0.1649 - val_accuracy: 0.9449 - lr: 5.9049e-04\n",
            "Epoch 6/100\n",
            "59/59 [==============================] - 3s 44ms/step - loss: 0.0727 - accuracy: 0.9730 - val_loss: 0.0981 - val_accuracy: 0.9682 - lr: 5.9049e-04\n",
            "Epoch 7/100\n",
            "59/59 [==============================] - 3s 47ms/step - loss: 0.0757 - accuracy: 0.9754 - val_loss: 0.0820 - val_accuracy: 0.9693 - lr: 5.9049e-04\n",
            "Epoch 8/100\n",
            "59/59 [==============================] - 3s 45ms/step - loss: 0.0535 - accuracy: 0.9830 - val_loss: 0.0826 - val_accuracy: 0.9714 - lr: 5.9049e-04\n",
            "Epoch 9/100\n",
            "59/59 [==============================] - 3s 46ms/step - loss: 0.0718 - accuracy: 0.9775 - val_loss: 0.0895 - val_accuracy: 0.9661 - lr: 5.3144e-04\n",
            "Epoch 10/100\n",
            "59/59 [==============================] - 3s 44ms/step - loss: 0.0711 - accuracy: 0.9767 - val_loss: 0.0945 - val_accuracy: 0.9650 - lr: 5.3144e-04\n",
            "Epoch 11/100\n",
            "59/59 [==============================] - 3s 46ms/step - loss: 0.0648 - accuracy: 0.9809 - val_loss: 0.1634 - val_accuracy: 0.9555 - lr: 5.3144e-04\n",
            "Epoch 12/100\n",
            "59/59 [==============================] - 3s 44ms/step - loss: 0.0462 - accuracy: 0.9857 - val_loss: 0.1193 - val_accuracy: 0.9650 - lr: 5.3144e-04\n",
            "Epoch 13/100\n",
            "59/59 [==============================] - 3s 44ms/step - loss: 0.0456 - accuracy: 0.9852 - val_loss: 0.1162 - val_accuracy: 0.9650 - lr: 5.3144e-04\n"
          ]
        }
      ],
      "source": [
        "# Train the model on hard data\n",
        "x_hard_train, x_hard_test, y_hard_train, y_hard_test = train_test_split(x_hard, y_hard, test_size=0.2)\n",
        "history = cnn_model.fit(x_hard_train,\n",
        "                        y_hard_train,\n",
        "                        batch_size=64,\n",
        "                        epochs=100,\n",
        "                        validation_data=(x_hard_test, y_hard_test),\n",
        "                        callbacks=[early_stopping, reduce_learning_rate])"
      ]
    },
    {
      "cell_type": "markdown",
      "metadata": {
        "id": "8gtS0oOJhLP-"
      },
      "source": [
        "This might cause the over-fitting issue on these incorrectly labelled images. Therefore, we will train the model again to balance out. \n",
        "\n",
        "Besides, we will also perform data augmentation to diversify our training dataset by rotating, shifting, zooming or flipping the images, which will also improve our model to overcome the over-fitting issue and learn the generic features of each image."
      ]
    },
    {
      "cell_type": "code",
      "execution_count": 16,
      "metadata": {
        "colab": {
          "base_uri": "https://localhost:8080/"
        },
        "id": "JAvmANgChT9p",
        "outputId": "74228b0a-63b5-4b07-ab9e-d5a0c8c812cd"
      },
      "outputs": [
        {
          "output_type": "stream",
          "name": "stdout",
          "text": [
            "Epoch 1/100\n",
            "359/359 [==============================] - 18s 47ms/step - loss: 1.1012 - accuracy: 0.6282 - val_loss: 1.0017 - val_accuracy: 0.6398 - lr: 4.7830e-04\n",
            "Epoch 2/100\n",
            "359/359 [==============================] - 16s 46ms/step - loss: 0.9980 - accuracy: 0.6505 - val_loss: 0.9793 - val_accuracy: 0.6498 - lr: 4.7830e-04\n",
            "Epoch 3/100\n",
            "359/359 [==============================] - 16s 45ms/step - loss: 0.9629 - accuracy: 0.6603 - val_loss: 0.9622 - val_accuracy: 0.6566 - lr: 4.7830e-04\n",
            "Epoch 4/100\n",
            "359/359 [==============================] - 17s 48ms/step - loss: 0.9418 - accuracy: 0.6687 - val_loss: 0.9665 - val_accuracy: 0.6534 - lr: 4.7830e-04\n",
            "Epoch 5/100\n",
            "359/359 [==============================] - 16s 45ms/step - loss: 0.9307 - accuracy: 0.6720 - val_loss: 0.9755 - val_accuracy: 0.6513 - lr: 4.7830e-04\n",
            "Epoch 6/100\n",
            "359/359 [==============================] - 16s 45ms/step - loss: 0.9256 - accuracy: 0.6724 - val_loss: 0.9257 - val_accuracy: 0.6632 - lr: 4.7830e-04\n",
            "Epoch 7/100\n",
            "359/359 [==============================] - 16s 45ms/step - loss: 0.9029 - accuracy: 0.6822 - val_loss: 0.9751 - val_accuracy: 0.6543 - lr: 4.7830e-04\n",
            "Epoch 8/100\n",
            "359/359 [==============================] - 16s 45ms/step - loss: 0.8976 - accuracy: 0.6859 - val_loss: 0.9179 - val_accuracy: 0.6661 - lr: 4.7830e-04\n",
            "Epoch 9/100\n",
            "359/359 [==============================] - 17s 48ms/step - loss: 0.8856 - accuracy: 0.6869 - val_loss: 0.9433 - val_accuracy: 0.6630 - lr: 4.7830e-04\n",
            "Epoch 10/100\n",
            "359/359 [==============================] - 16s 45ms/step - loss: 0.8743 - accuracy: 0.6918 - val_loss: 0.9499 - val_accuracy: 0.6494 - lr: 4.7830e-04\n",
            "Epoch 11/100\n",
            "359/359 [==============================] - 17s 49ms/step - loss: 0.8620 - accuracy: 0.6944 - val_loss: 0.9313 - val_accuracy: 0.6618 - lr: 4.7830e-04\n",
            "Epoch 12/100\n",
            "359/359 [==============================] - 17s 47ms/step - loss: 0.8503 - accuracy: 0.7005 - val_loss: 0.9938 - val_accuracy: 0.6459 - lr: 4.7830e-04\n",
            "Epoch 13/100\n",
            "359/359 [==============================] - 16s 45ms/step - loss: 0.8438 - accuracy: 0.7047 - val_loss: 0.9462 - val_accuracy: 0.6595 - lr: 4.7830e-04\n",
            "Epoch 14/100\n",
            "359/359 [==============================] - 16s 45ms/step - loss: 0.8310 - accuracy: 0.7042 - val_loss: 0.9614 - val_accuracy: 0.6609 - lr: 4.3047e-04\n",
            "Epoch 15/100\n",
            "359/359 [==============================] - 17s 48ms/step - loss: 0.8253 - accuracy: 0.7066 - val_loss: 0.9395 - val_accuracy: 0.6646 - lr: 4.3047e-04\n",
            "Epoch 16/100\n",
            "359/359 [==============================] - 16s 45ms/step - loss: 0.8129 - accuracy: 0.7104 - val_loss: 0.9739 - val_accuracy: 0.6567 - lr: 4.3047e-04\n",
            "Epoch 17/100\n",
            "359/359 [==============================] - 16s 45ms/step - loss: 0.8145 - accuracy: 0.7121 - val_loss: 0.9649 - val_accuracy: 0.6653 - lr: 4.3047e-04\n",
            "Epoch 18/100\n",
            "359/359 [==============================] - 16s 45ms/step - loss: 0.7987 - accuracy: 0.7132 - val_loss: 0.9845 - val_accuracy: 0.6557 - lr: 4.3047e-04\n"
          ]
        }
      ],
      "source": [
        "# Perform data augmentation\n",
        "data_generator = ImageDataGenerator(featurewise_center=False,\n",
        "                                    featurewise_std_normalization=False,\n",
        "                                    rotation_range=10,\n",
        "                                    width_shift_range=0.1,\n",
        "                                    height_shift_range=0.1,\n",
        "                                    zoom_range=.1,\n",
        "                                    horizontal_flip=True)\n",
        "flow = data_generator.flow(x_train, \n",
        "                           y_train, \n",
        "                           batch_size=64)\n",
        "\n",
        "# Train the model again to balance out\n",
        "history = cnn_model.fit(flow,\n",
        "                        epochs=100,\n",
        "                        validation_data=(x_test, y_test),\n",
        "                        callbacks=[early_stopping, reduce_learning_rate])"
      ]
    },
    {
      "cell_type": "markdown",
      "metadata": {
        "id": "UnYwgqz4hcKn"
      },
      "source": [
        "Evaluation of the model again after improvement. \n",
        "\n",
        "Previously, the validation accuracy was around 64%. Nevertheless, the validation accuracy has increased to around 68%."
      ]
    },
    {
      "cell_type": "code",
      "execution_count": null,
      "metadata": {
        "colab": {
          "base_uri": "https://localhost:8080/"
        },
        "id": "nxAQWOEchplU",
        "outputId": "68b6475d-11dd-4d07-fc41-84659083670c"
      },
      "outputs": [
        {
          "output_type": "stream",
          "name": "stdout",
          "text": [
            "180/180 [==============================] - 1s 8ms/step - loss: 0.9613 - accuracy: 0.6848\n",
            "Score after improvement: 0.6847788095474243\n"
          ]
        }
      ],
      "source": [
        "# Evaluate the model after improvement\n",
        "_, score_after_improvement = cnn_model.evaluate(x_test, y_test)\n",
        "print('Score after improvement: {}'.format(score_after_improvement))"
      ]
    },
    {
      "cell_type": "markdown",
      "metadata": {
        "id": "Diziksr-iBE3"
      },
      "source": [
        "### Evaluate the Model"
      ]
    },
    {
      "cell_type": "markdown",
      "metadata": {
        "id": "Z2LRW4h4iDL4"
      },
      "source": [
        "Make predictions and create the confusion matrix.\n",
        "Since FER2013 dataset does not provide too many images labelled with \"Disgust\", we can tell from the confusion matrix that, the model might not be able to classify the images labelled with \"Disgust\" very well."
      ]
    },
    {
      "cell_type": "code",
      "execution_count": null,
      "metadata": {
        "colab": {
          "base_uri": "https://localhost:8080/",
          "height": 350
        },
        "id": "jXdmV1bMiMIA",
        "outputId": "e6a203ea-e7bd-4ff4-d60f-13a177d53de3"
      },
      "outputs": [
        {
          "output_type": "stream",
          "name": "stdout",
          "text": [
            "180/180 [==============================] - 1s 7ms/step\n"
          ]
        },
        {
          "output_type": "display_data",
          "data": {
            "text/plain": [
              "<Figure size 432x288 with 1 Axes>"
            ],
            "image/png": "[encoded data removed]"
          },
          "metadata": {
            "needs_background": "light"
          }
        }
      ],
      "source": [
        "!pip install -U mlxtend > /dev/null 2>&1\n",
        "\n",
        "from mlxtend.plotting import plot_confusion_matrix\n",
        "from sklearn.metrics import confusion_matrix\n",
        "\n",
        "# Make predictions\n",
        "predictions = cnn_model.predict(x_test)\n",
        "y_predict = numpy.argmax(predictions, axis=1)\n",
        "\n",
        "# Create confusion matrix\n",
        "conf_matrix = confusion_matrix(y_test, y_predict)\n",
        "\n",
        "# Display confusion matrix\n",
        "class_names = ['Angry', 'Disgust', 'Fear', 'Happy', 'Sad', 'Surprise', 'Neutral']\n",
        "fig, ax = plot_confusion_matrix(conf_mat=conf_matrix, class_names=class_names)\n",
        "plt.title('Confusion Matrix')\n",
        "plt.show()"
      ]
    },
    {
      "cell_type": "markdown",
      "metadata": {
        "id": "W_5ayKbMisp7"
      },
      "source": [
        "Prediction"
      ]
    },
    {
      "cell_type": "code",
      "execution_count": null,
      "metadata": {
        "id": "E-A7-a1MiuC6"
      },
      "outputs": [],
      "source": [
        "from tensorflow.keras.preprocessing import image\n",
        "\n",
        "def predict_facial_expression(image_path):\n",
        "    \"\"\"Predict facial expression for image\"\"\"\n",
        "    # Open image\n",
        "    rgb_image = image.load_img(path=image_path,\n",
        "                            color_mode='grayscale',\n",
        "                            target_size=(48, 48))\n",
        "    # Convert to array\n",
        "    rgb_array = image.img_to_array(rgb_image)\n",
        "    rgb_array = numpy.expand_dims(rgb_array, axis=0)\n",
        "\n",
        "    # Show image\n",
        "    rgb_display = numpy.array(rgb_array, 'float32')\n",
        "    rgb_display = rgb_display.reshape([48, 48]);\n",
        "    plt.imshow(rgb_display, cmap='gray')\n",
        "    plt.show()\n",
        "\n",
        "    # Make predictions\n",
        "    rgb_array = rgb_array / 255.0\n",
        "    prediction = cnn_model.predict(rgb_array)\n",
        "\n",
        "    # Draw the histogram\n",
        "    plt.bar(y_pos, prediction[0], align='center', alpha=0.5)\n",
        "    plt.xticks(y_pos, categories)\n",
        "    plt.ylabel('Percentage')\n",
        "    plt.title('Facial Expression Prediction')\n",
        "    plt.show()"
      ]
    },
    {
      "cell_type": "code",
      "execution_count": null,
      "metadata": {
        "colab": {
          "base_uri": "https://localhost:8080/",
          "height": 548
        },
        "id": "RcMUZzpYiwkd",
        "outputId": "ce0b6d88-b9fc-4df8-8dba-0041439534fc"
      },
      "outputs": [
        {
          "output_type": "display_data",
          "data": {
            "text/plain": [
              "<Figure size 432x288 with 1 Axes>"
            ],
            "image/png": "[encoded data removed]"
          },
          "metadata": {
            "needs_background": "light"
          }
        },
        {
          "output_type": "stream",
          "name": "stdout",
          "text": [
            "1/1 [==============================] - 0s 16ms/step\n"
          ]
        },
        {
          "output_type": "display_data",
          "data": {
            "text/plain": [
              "<Figure size 432x288 with 1 Axes>"
            ],
            "image/png": "[encoded data removed]"
          },
          "metadata": {
            "needs_background": "light"
          }
        }
      ],
      "source": [
        "# Surprise\n",
        "predict_facial_expression('sup.jfif')"
      ]
    },
    {
      "cell_type": "code",
      "source": [
        "# Fear\n",
        "predict_facial_expression('fear.jpg')"
      ],
      "metadata": {
        "colab": {
          "base_uri": "https://localhost:8080/",
          "height": 548
        },
        "id": "PUOP7P0fls2x",
        "outputId": "fe6ce724-83ec-4ffb-c099-7ceda09223fc"
      },
      "execution_count": null,
      "outputs": [
        {
          "output_type": "display_data",
          "data": {
            "text/plain": [
              "<Figure size 432x288 with 1 Axes>"
            ],
            "image/png": "[encoded data removed]"
          },
          "metadata": {
            "needs_background": "light"
          }
        },
        {
          "output_type": "stream",
          "name": "stdout",
          "text": [
            "1/1 [==============================] - 0s 26ms/step\n"
          ]
        },
        {
          "output_type": "display_data",
          "data": {
            "text/plain": [
              "<Figure size 432x288 with 1 Axes>"
            ],
            "image/png": "[encoded data removed]"
          },
          "metadata": {
            "needs_background": "light"
          }
        }
      ]
    },
    {
      "cell_type": "code",
      "source": [
        "# Disgust\n",
        "predict_facial_expression('ew.jpg')"
      ],
      "metadata": {
        "colab": {
          "base_uri": "https://localhost:8080/",
          "height": 548
        },
        "id": "h1u-FnaamRuL",
        "outputId": "fb9dd604-5da1-4ae2-e97a-6b3b0ff75026"
      },
      "execution_count": null,
      "outputs": [
        {
          "output_type": "display_data",
          "data": {
            "text/plain": [
              "<Figure size 432x288 with 1 Axes>"
            ],
            "image/png": "[encoded data removed]"
          },
          "metadata": {
            "needs_background": "light"
          }
        },
        {
          "output_type": "stream",
          "name": "stdout",
          "text": [
            "1/1 [==============================] - 0s 17ms/step\n"
          ]
        },
        {
          "output_type": "display_data",
          "data": {
            "text/plain": [
              "<Figure size 432x288 with 1 Axes>"
            ],
            "image/png": "[encoded data removed]"
          },
          "metadata": {
            "needs_background": "light"
          }
        }
      ]
    },
    {
      "cell_type": "code",
      "source": [
        "# Angry\n",
        "predict_facial_expression('ang.jpg')"
      ],
      "metadata": {
        "colab": {
          "base_uri": "https://localhost:8080/",
          "height": 548
        },
        "id": "hlo6OY-ZnP6Y",
        "outputId": "b6ccc918-f60c-4f65-e132-d696793acd20"
      },
      "execution_count": null,
      "outputs": [
        {
          "output_type": "display_data",
          "data": {
            "text/plain": [
              "<Figure size 432x288 with 1 Axes>"
            ],
            "image/png": "[encoded data removed]"
          },
          "metadata": {
            "needs_background": "light"
          }
        },
        {
          "output_type": "stream",
          "name": "stdout",
          "text": [
            "1/1 [==============================] - 0s 19ms/step\n"
          ]
        },
        {
          "output_type": "display_data",
          "data": {
            "text/plain": [
              "<Figure size 432x288 with 1 Axes>"
            ],
            "image/png": "[encoded data removed]"
          },
          "metadata": {
            "needs_background": "light"
          }
        }
      ]
    },
    {
      "cell_type": "code",
      "source": [
        "# Happy\n",
        "predict_facial_expression('hg.jpg')"
      ],
      "metadata": {
        "colab": {
          "base_uri": "https://localhost:8080/",
          "height": 548
        },
        "id": "vOLVdeJrZ5R9",
        "outputId": "d9d98abd-7349-4e27-a360-141a9399fb53"
      },
      "execution_count": null,
      "outputs": [
        {
          "output_type": "display_data",
          "data": {
            "text/plain": [
              "<Figure size 432x288 with 1 Axes>"
            ],
            "image/png": "[encoded data removed]"
          },
          "metadata": {
            "needs_background": "light"
          }
        },
        {
          "output_type": "stream",
          "name": "stdout",
          "text": [
            "1/1 [==============================] - 0s 16ms/step\n"
          ]
        },
        {
          "output_type": "display_data",
          "data": {
            "text/plain": [
              "<Figure size 432x288 with 1 Axes>"
            ],
            "image/png": "[encoded data removed]"
          },
          "metadata": {
            "needs_background": "light"
          }
        }
      ]
    },
    {
      "cell_type": "code",
      "source": [
        "# Happy\n",
        "predict_facial_expression('hap1.jpg')"
      ],
      "metadata": {
        "id": "hPkQ6ztQbvhS",
        "outputId": "9f211616-cc77-4b8d-c266-d0f26897f5ba",
        "colab": {
          "base_uri": "https://localhost:8080/",
          "height": 548
        }
      },
      "execution_count": null,
      "outputs": [
        {
          "output_type": "display_data",
          "data": {
            "text/plain": [
              "<Figure size 432x288 with 1 Axes>"
            ],
            "image/png": "[encoded data removed]"
          },
          "metadata": {
            "needs_background": "light"
          }
        },
        {
          "output_type": "stream",
          "name": "stdout",
          "text": [
            "1/1 [==============================] - 0s 19ms/step\n"
          ]
        },
        {
          "output_type": "display_data",
          "data": {
            "text/plain": [
              "<Figure size 432x288 with 1 Axes>"
            ],
            "image/png": "[encoded data removed]"
          },
          "metadata": {
            "needs_background": "light"
          }
        }
      ]
    },
    {
      "cell_type": "code",
      "source": [
        "# Sad\n",
        "predict_facial_expression('1.jpg')"
      ],
      "metadata": {
        "colab": {
          "base_uri": "https://localhost:8080/",
          "height": 548
        },
        "id": "y7VCYoT0a871",
        "outputId": "77248aad-4e6f-4b2c-caf6-17126c0f71a6"
      },
      "execution_count": null,
      "outputs": [
        {
          "output_type": "display_data",
          "data": {
            "text/plain": [
              "<Figure size 432x288 with 1 Axes>"
            ],
            "image/png": "[encoded data removed]"
          },
          "metadata": {
            "needs_background": "light"
          }
        },
        {
          "output_type": "stream",
          "name": "stdout",
          "text": [
            "1/1 [==============================] - 0s 16ms/step\n"
          ]
        },
        {
          "output_type": "display_data",
          "data": {
            "text/plain": [
              "<Figure size 432x288 with 1 Axes>"
            ],
            "image/png": "[encoded data removed]"
          },
          "metadata": {
            "needs_background": "light"
          }
        }
      ]
    }
  ],
  "metadata": {
    "accelerator": "GPU",
    "colab": {
      "provenance": [],
      "include_colab_link": true
    },
    "gpuClass": "standard",
    "kernelspec": {
      "display_name": "Python 3",
      "name": "python3"
    },
    "language_info": {
      "name": "python"
    }
  },
  "nbformat": 4,
  "nbformat_minor": 0
}